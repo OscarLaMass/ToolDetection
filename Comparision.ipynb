{
  "cells": [
    {
      "cell_type": "markdown",
      "metadata": {
        "id": "lgBabRBJA171"
      },
      "source": [
        "## Results comparision notebooks"
      ]
    },
    {
      "cell_type": "code",
      "source": [
        "!pip install vit-keras\n",
        "!pip install tensorflow-addons"
      ],
      "metadata": {
        "colab": {
          "base_uri": "https://localhost:8080/"
        },
        "id": "4JOKwRbnVK6j",
        "outputId": "c0beada1-e2e3-4ca6-a765-8ebfa4aef64e"
      },
      "execution_count": null,
      "outputs": [
        {
          "output_type": "stream",
          "name": "stdout",
          "text": [
            "Collecting vit-keras\n",
            "  Downloading vit_keras-0.1.2-py3-none-any.whl (24 kB)\n",
            "Requirement already satisfied: scipy in /usr/local/lib/python3.10/dist-packages (from vit-keras) (1.11.4)\n",
            "Collecting validators (from vit-keras)\n",
            "  Downloading validators-0.22.0-py3-none-any.whl (26 kB)\n",
            "Requirement already satisfied: numpy<1.28.0,>=1.21.6 in /usr/local/lib/python3.10/dist-packages (from scipy->vit-keras) (1.23.5)\n",
            "Installing collected packages: validators, vit-keras\n",
            "Successfully installed validators-0.22.0 vit-keras-0.1.2\n",
            "Collecting tensorflow-addons\n",
            "  Downloading tensorflow_addons-0.23.0-cp310-cp310-manylinux_2_17_x86_64.manylinux2014_x86_64.whl (611 kB)\n",
            "\u001b[2K     \u001b[90m━━━━━━━━━━━━━━━━━━━━━━━━━━━━━━━━━━━━━━━━\u001b[0m \u001b[32m611.8/611.8 kB\u001b[0m \u001b[31m2.6 MB/s\u001b[0m eta \u001b[36m0:00:00\u001b[0m\n",
            "\u001b[?25hRequirement already satisfied: packaging in /usr/local/lib/python3.10/dist-packages (from tensorflow-addons) (23.2)\n",
            "Collecting typeguard<3.0.0,>=2.7 (from tensorflow-addons)\n",
            "  Downloading typeguard-2.13.3-py3-none-any.whl (17 kB)\n",
            "Installing collected packages: typeguard, tensorflow-addons\n",
            "Successfully installed tensorflow-addons-0.23.0 typeguard-2.13.3\n"
          ]
        }
      ]
    },
    {
      "cell_type": "code",
      "execution_count": null,
      "metadata": {
        "id": "uHw6BVAtA174",
        "colab": {
          "base_uri": "https://localhost:8080/"
        },
        "outputId": "f2019ab2-dd82-4d23-bf54-df7c459524b0"
      },
      "outputs": [
        {
          "output_type": "stream",
          "name": "stderr",
          "text": [
            "/usr/local/lib/python3.10/dist-packages/tensorflow_addons/utils/tfa_eol_msg.py:23: UserWarning: \n",
            "\n",
            "TensorFlow Addons (TFA) has ended development and introduction of new features.\n",
            "TFA has entered a minimal maintenance and release mode until a planned end of life in May 2024.\n",
            "Please modify downstream libraries to take dependencies from other repositories in our TensorFlow community (e.g. Keras, Keras-CV, and Keras-NLP). \n",
            "\n",
            "For more information see: https://github.com/tensorflow/addons/issues/2807 \n",
            "\n",
            "  warnings.warn(\n"
          ]
        }
      ],
      "source": [
        "import tensorflow as tf\n",
        "import numpy as np\n",
        "import matplotlib.pyplot as plt\n",
        "from vit_keras import vit\n",
        "import os\n",
        "import cv2\n",
        "import pandas as pd\n",
        "from matplotlib.patches import Rectangle\n",
        "from lxml import etree\n",
        "from sklearn.preprocessing import LabelBinarizer"
      ]
    },
    {
      "cell_type": "code",
      "source": [
        "from google.colab import drive\n",
        "drive.mount('/content/drive')"
      ],
      "metadata": {
        "colab": {
          "base_uri": "https://localhost:8080/"
        },
        "id": "CVHALNofobXS",
        "outputId": "fbc036c2-db64-43b8-f7a7-7cf706799a86"
      },
      "execution_count": null,
      "outputs": [
        {
          "output_type": "stream",
          "name": "stdout",
          "text": [
            "Mounted at /content/drive\n"
          ]
        }
      ]
    },
    {
      "cell_type": "code",
      "source": [
        "PATH = '/content/drive/My Drive/Deep_Learning/Entregable3/03a-SingleDetection-Tools/03-SingleDetection-Tools/Data/Data/Test'\n",
        "DRIVE_PATH = '/content/drive/My Drive/Deep_Learning/Entregable3/03a-SingleDetection-Tools/03-SingleDetection-Tools/Data/Models/'\n",
        "DRIVE_PATH1 = '/content/drive/My Drive/Deep_Learning/Entregable3/03a-SingleDetection-Tools/03-SingleDetection-Tools/Models/'"
      ],
      "metadata": {
        "id": "h6RbuFK7pD6M"
      },
      "execution_count": null,
      "outputs": []
    },
    {
      "cell_type": "code",
      "source": [
        "!unzip -q '/content/drive/My Drive/Deep_Learning/Entregable3/03a-SingleDetection-Tools/03-SingleDetection-Tools/Data/Test.zip' -d '/content/drive/My Drive/Deep_Learning/Entregable3/03a-SingleDetection-Tools/03-SingleDetection-Tools/Data/Sample_data'"
      ],
      "metadata": {
        "id": "hai790wtoslz",
        "colab": {
          "base_uri": "https://localhost:8080/"
        },
        "outputId": "3dd4e9d0-b7fb-48e0-e8f8-55c1ddc275ee"
      },
      "execution_count": null,
      "outputs": [
        {
          "output_type": "stream",
          "name": "stdout",
          "text": [
            "replace /content/drive/My Drive/Deep_Learning/Entregable3/03a-SingleDetection-Tools/03-SingleDetection-Tools/Data/Sample_data/Test/05ea51a1-tongs40.jpg? [y]es, [n]o, [A]ll, [N]one, [r]ename: N\n"
          ]
        }
      ]
    },
    {
      "cell_type": "code",
      "execution_count": null,
      "metadata": {
        "id": "bjAhCV-pA175"
      },
      "outputs": [],
      "source": [
        "Class_dict = {'drill_bit': 1,\n",
        " 'cutter': 2,\n",
        " 'allen_keys': 3,\n",
        " 'tongs': 4,\n",
        " 'screwdriver': 5,\n",
        " 'screws_box': 6}"
      ]
    },
    {
      "cell_type": "code",
      "source": [
        "# Function to parse and extract information from annotation files\n",
        "\n",
        "def get_annotations(path):\n",
        "    # Read the annotation file\n",
        "\n",
        "    data = open(path, 'rb')\n",
        "\n",
        "    xslt_content = data.read()\n",
        "    sel = etree.XML(xslt_content)\n",
        "\n",
        "    # Obtain the image width\n",
        "    width = int(sel.xpath(\"//size/width/text()\")[0])\n",
        "    # Obtain the image height\n",
        "    height = int(sel.xpath(\"//size/height/text()\")[0])\n",
        "    # Extract the bounding box coordinates\n",
        "    xmin = int(sel.xpath(\"//bndbox/xmin/text()\")[0])\n",
        "    xmax = int(sel.xpath(\"//bndbox/xmax/text()\")[0])\n",
        "    ymin = int(sel.xpath(\"//bndbox/ymin/text()\")[0])\n",
        "    ymax = int(sel.xpath(\"//bndbox/ymax/text()\")[0])\n",
        "    # Extract class\n",
        "    label = str(sel.xpath(\"//object/name/text()\")[0])\n",
        "    # Return the relative coordinates\n",
        "    return [xmin/width, ymin/height, xmax/width, ymax/height,label]"
      ],
      "metadata": {
        "id": "eHy2T4csBM3-"
      },
      "execution_count": null,
      "outputs": []
    },
    {
      "cell_type": "code",
      "source": [
        "def load_image(path, size):\n",
        "    image = tf.io.read_file(path)\n",
        "    image = tf.image.decode_jpeg(image,3)\n",
        "    image = tf.image.resize(image,[size,size])\n",
        "    image = tf.cast(image,tf.float32)\n",
        "    image = image / 255.\n",
        "\n",
        "    return image\n",
        "\n",
        "def create_dataset(coors, path, batch, Class_dict, size):\n",
        "    # zip agrupa los ith elementos de cada lista y los convierte en lista\n",
        "    xmin, ymin, xmax, ymax, label = list(zip(*coors))\n",
        "\n",
        "    labels = [Class_dict[a]-1 for a in label]\n",
        "\n",
        "    # Convert to Numpy array\n",
        "    xmin = np.array(xmin)\n",
        "    ymin = np.array(ymin)\n",
        "    xmax = np.array(xmax)\n",
        "    ymax = np.array(ymax)\n",
        "    label = np.array(labels)\n",
        "\n",
        "    labels_dataset = tf.data.Dataset.from_tensor_slices((xmin, ymin, xmax, ymax, label))\n",
        "\n",
        "    imgs = []\n",
        "    listSorted = os.listdir(path)\n",
        "    listSorted.sort()\n",
        "\n",
        "    for i in listSorted:\n",
        "        if i[-4:] == '.jpg':\n",
        "            imgs.append(os.path.join(path,i))\n",
        "\n",
        "    dataset = tf.data.Dataset.from_tensor_slices(imgs)\n",
        "    dataset = dataset.map(lambda path: load_image(path, size))\n",
        "\n",
        "    dataset_label = tf.data.Dataset.zip((dataset, labels_dataset))\n",
        "\n",
        "    dataset_label = dataset_label.shuffle(64).batch(batch)\n",
        "\n",
        "    AUTOTUNE = tf.data.experimental.AUTOTUNE\n",
        "\n",
        "    dataset_label = dataset_label.cache().prefetch(buffer_size=AUTOTUNE)\n",
        "\n",
        "    return dataset_label"
      ],
      "metadata": {
        "id": "DuOSr9dxBh-5"
      },
      "execution_count": null,
      "outputs": []
    },
    {
      "cell_type": "code",
      "source": [
        "def get_list_annotations(path_folder):\n",
        "\n",
        "    items = os.listdir(path_folder)\n",
        "    items.sort()\n",
        "    xml = []\n",
        "\n",
        "    for item in items:\n",
        "        if item[-4:] == '.xml':\n",
        "            xml.append(os.path.join(path_folder,item))\n",
        "\n",
        "    return [get_annotations(path) for path in xml]"
      ],
      "metadata": {
        "id": "Zd-n928jVlg0"
      },
      "execution_count": null,
      "outputs": []
    },
    {
      "cell_type": "code",
      "execution_count": null,
      "metadata": {
        "id": "SsgDdha9A175"
      },
      "outputs": [],
      "source": [
        "test_coors = get_list_annotations(PATH)\n",
        "batch_valid = 4\n",
        "test_dataset = create_dataset(test_coors, PATH, batch_valid, Class_dict, 224)"
      ]
    },
    {
      "cell_type": "code",
      "execution_count": null,
      "metadata": {
        "id": "uROZ5RcQA176"
      },
      "outputs": [],
      "source": [
        "transformer_model = tf.keras.models.load_model(DRIVE_PATH+'ViT_loc.h5')\n",
        "efficient_model = tf.keras.models.load_model(DRIVE_PATH+'EfficientNetB7.h5')\n",
        "efficient_model2 = tf.keras.models.load_model(DRIVE_PATH+'EfficientNetB2.h5')\n",
        "ViT_original = tf.keras.models.load_model(DRIVE_PATH1 +'ViT_loc.h5')\n",
        "Better = tf.keras.models.load_model(DRIVE_PATH+'EfficientNetB0.h5')"
      ]
    },
    {
      "cell_type": "code",
      "execution_count": null,
      "metadata": {
        "id": "QFpj4S0ZA176",
        "outputId": "9608837e-23e3-46bf-f6f7-599ed3990798",
        "colab": {
          "base_uri": "https://localhost:8080/"
        }
      },
      "outputs": [
        {
          "output_type": "stream",
          "name": "stdout",
          "text": [
            "23/23 [==============================] - 14s 133ms/step - loss: 18.6122 - xmin_loss: 0.0018 - ymin_loss: 0.0016 - xmax_loss: 0.0026 - ymax_loss: 0.0018 - class_loss: 18.6045 - xmin_mae: 0.0310 - xmin_acc: 0.0000e+00 - ymin_mae: 0.0334 - ymin_acc: 0.0111 - xmax_mae: 0.0386 - xmax_acc: 0.0000e+00 - ymax_mae: 0.0330 - ymax_acc: 0.0000e+00 - class_mae: 2.3889 - class_acc: 0.1667\n"
          ]
        }
      ],
      "source": [
        "conv_res = efficient_model.evaluate(test_dataset)"
      ]
    },
    {
      "cell_type": "code",
      "execution_count": null,
      "metadata": {
        "id": "YwX0xfLqA177",
        "outputId": "d2f75caa-149c-4014-dcd0-623a41338a20",
        "colab": {
          "base_uri": "https://localhost:8080/"
        }
      },
      "outputs": [
        {
          "output_type": "stream",
          "name": "stdout",
          "text": [
            "23/23 [==============================] - 5s 44ms/step - loss: 15.4957 - xmin_loss: 0.0015 - ymin_loss: 0.0017 - xmax_loss: 0.0015 - ymax_loss: 0.0019 - class_loss: 15.4891 - xmin_mae: 0.0318 - xmin_acc: 0.0000e+00 - ymin_mae: 0.0341 - ymin_acc: 0.0111 - xmax_mae: 0.0305 - xmax_acc: 0.0000e+00 - ymax_mae: 0.0338 - ymax_acc: 0.0000e+00 - class_mae: 2.3889 - class_acc: 0.1667\n"
          ]
        }
      ],
      "source": [
        "trans_res = transformer_model.evaluate(test_dataset)"
      ]
    },
    {
      "cell_type": "code",
      "source": [
        "trans_res_original = ViT_original.evaluate(test_dataset)"
      ],
      "metadata": {
        "id": "ua5ceG5amj_h",
        "colab": {
          "base_uri": "https://localhost:8080/"
        },
        "outputId": "0df9d36b-d874-421a-f813-70bb5ae04564"
      },
      "execution_count": null,
      "outputs": [
        {
          "output_type": "stream",
          "name": "stdout",
          "text": [
            "23/23 [==============================] - 4s 43ms/step - loss: 16.3452 - xmin_loss: 0.0012 - ymin_loss: 0.0017 - xmax_loss: 0.0015 - ymax_loss: 0.0013 - class_loss: 16.3396 - xmin_mae: 0.0281 - xmin_acc: 0.0000e+00 - ymin_mae: 0.0334 - ymin_acc: 0.0111 - xmax_mae: 0.0307 - xmax_acc: 0.0000e+00 - ymax_mae: 0.0293 - ymax_acc: 0.0000e+00 - class_mae: 2.3889 - class_acc: 0.0000e+00\n"
          ]
        }
      ]
    },
    {
      "cell_type": "code",
      "source": [
        "conv_res2 = efficient_model2.evaluate(test_dataset)"
      ],
      "metadata": {
        "colab": {
          "base_uri": "https://localhost:8080/"
        },
        "id": "FQ9yOKxZG4t8",
        "outputId": "ca92773b-5bde-4279-fa35-93ab59778fd7"
      },
      "execution_count": null,
      "outputs": [
        {
          "output_type": "stream",
          "name": "stdout",
          "text": [
            "23/23 [==============================] - 7s 69ms/step - loss: 22.6364 - xmin_loss: 0.0025 - ymin_loss: 0.0018 - xmax_loss: 0.0019 - ymax_loss: 0.0015 - class_loss: 22.6286 - xmin_mae: 0.0396 - xmin_acc: 0.0000e+00 - ymin_mae: 0.0332 - ymin_acc: 0.0111 - xmax_mae: 0.0357 - xmax_acc: 0.0000e+00 - ymax_mae: 0.0304 - ymax_acc: 0.0000e+00 - class_mae: 2.3889 - class_acc: 0.1667\n"
          ]
        }
      ]
    },
    {
      "cell_type": "code",
      "source": [
        "effi_better = Better.evaluate(test_dataset)"
      ],
      "metadata": {
        "colab": {
          "base_uri": "https://localhost:8080/"
        },
        "id": "OiZ5DYdbG446",
        "outputId": "c47a72b1-a1c1-4d3c-8171-5e2033b1eed4"
      },
      "execution_count": null,
      "outputs": [
        {
          "output_type": "stream",
          "name": "stdout",
          "text": [
            "23/23 [==============================] - 7s 64ms/step - loss: 3.6319 - xmin_loss: 3.8757e-04 - ymin_loss: 0.0013 - xmax_loss: 4.0796e-04 - ymax_loss: 6.4677e-04 - class_loss: 3.6292 - xmin_mae: 0.0161 - xmin_acc: 0.0000e+00 - ymin_mae: 0.0313 - ymin_acc: 0.0111 - xmax_mae: 0.0164 - xmax_acc: 0.0000e+00 - ymax_mae: 0.0207 - ymax_acc: 0.0000e+00 - class_mae: 2.3889 - class_acc: 0.1667\n"
          ]
        }
      ]
    },
    {
      "cell_type": "markdown",
      "source": [
        "## Graficos Finales\n",
        "\n",
        "---"
      ],
      "metadata": {
        "id": "HIuLhtf0I4BX"
      }
    },
    {
      "cell_type": "markdown",
      "source": [
        "Finalmente, graficamos para observar las diferencias entre los resultados de los modelos. Según lo descrito anteriormente y considerando las predicciones previas, esperamos que el mejor modelo sea el EfficientNetB7, referido como 'effi_better'."
      ],
      "metadata": {
        "id": "VqWfI9ikI9rG"
      }
    },
    {
      "cell_type": "code",
      "execution_count": null,
      "metadata": {
        "id": "40sMfnKtA177",
        "outputId": "877d7a89-5e17-4218-f5ce-501377a14e37",
        "colab": {
          "base_uri": "https://localhost:8080/",
          "height": 472
        }
      },
      "outputs": [
        {
          "output_type": "display_data",
          "data": {
            "text/plain": [
              "<Figure size 640x480 with 1 Axes>"
            ],
            "image/png": "[encoded data removed]"
          },
          "metadata": {}
        }
      ],
      "source": [
        "import numpy as np\n",
        "import matplotlib.pyplot as plt\n",
        "\n",
        "barWidth = 0.3\n",
        "br1 = np.arange(0,6,1.5)\n",
        "br2 = [x + barWidth for x in br1]\n",
        "br3 = [x + barWidth for x in br2]\n",
        "br4 = [x + barWidth for x in br3]\n",
        "br5 = [x + barWidth for x in br4]\n",
        "\n",
        "# Order (it can be seen in the training):\n",
        "# These 3 groups only appears in the training\n",
        "# - loss, xmin_loss, ymin_loss, xmax_loss, ymax_loss, class_loss\n",
        "# - xmin_mae, xmin_acc, ymin_mae, ymin_acc, xmax_mae, xmax_acc, ymax_mae, ymax_acc\n",
        "# - class_mae, class_acc\n",
        "\n",
        "# - val_loss, val_xmin_loss, val_ymin_loss, val_xmax_loss, val_ymax_loss, val_class_loss\n",
        "# - val_xmin_mae, val_xmin_acc, val_ymin_mae, val_ymin_acc, val_xmax_mae, val_xmax_acc, val_ymax_mae, val_ymax_acc\n",
        "# - val_class_mae, val_class_acc\n",
        "\n",
        "plt.bar(br1, [conv_res2[6], conv_res2[8], conv_res2[10], conv_res2[12]], color = 'darkgreen', width = barWidth, label = 'EfficientNetB7_new')\n",
        "plt.bar(br2, [conv_res[6], conv_res[8], conv_res[10], conv_res[12]], color = 'lightgreen', width = barWidth, label = 'EfficientNetB7')\n",
        "plt.bar(br3, [trans_res[6], trans_res[8], trans_res[10], trans_res[12]], color = 'lightsalmon', width = barWidth, label = 'ViT-B32')\n",
        "plt.bar(br4, [trans_res_original[6], trans_res_original[8], trans_res_original[10], trans_res_original[12]], color = 'lightblue', width = barWidth, label = 'ViT-B32_original')\n",
        "plt.bar(br5, [effi_better[6], effi_better[8], effi_better[10], effi_better[12]], color = 'red', width = barWidth, label = 'EfficienNet_Better')\n",
        "\n",
        "#max_tick = np.max(bars[0] + bars[1] + bars[2]) + 1\n",
        "\n",
        "plt.xticks(br2, ['x1', 'y1', 'x2', 'y2'])\n",
        "plt.legend(loc='lower right')\n",
        "plt.xlabel('Coordinates')\n",
        "plt.ylabel('Mean absolute error')\n",
        "plt.title('Model comparision in localization task')\n",
        "#plt.ylim(0,max_tick)\n",
        "plt.grid()\n",
        "plt.show()"
      ]
    },
    {
      "cell_type": "code",
      "source": [
        "import numpy as np\n",
        "import matplotlib.pyplot as plt\n",
        "\n",
        "barWidth = 0.3\n",
        "br1 = np.arange(0,6,1.5)\n",
        "br2 = [x + barWidth for x in br1]\n",
        "\n",
        "\n",
        "# Order (it can be seen in the training):\n",
        "# These 3 groups only appears in the training\n",
        "# - loss, xmin_loss, ymin_loss, xmax_loss, ymax_loss, class_loss\n",
        "# - xmin_mae, xmin_acc, ymin_mae, ymin_acc, xmax_mae, xmax_acc, ymax_mae, ymax_acc\n",
        "# - class_mae, class_acc\n",
        "\n",
        "# - val_loss, val_xmin_loss, val_ymin_loss, val_xmax_loss, val_ymax_loss, val_class_loss\n",
        "# - val_xmin_mae, val_xmin_acc, val_ymin_mae, val_ymin_acc, val_xmax_mae, val_xmax_acc, val_ymax_mae, val_ymax_acc\n",
        "# - val_class_mae, val_class_acc\n",
        "\n",
        "plt.bar(br1, [trans_res_original[6], trans_res_original[8], trans_res_original[10], trans_res_original[12]], color = 'lightblue', width = barWidth, label = 'ViT-B32_original')\n",
        "plt.bar(br2, [effi_better[6], effi_better[8], effi_better[10], effi_better[12]], color = 'red', width = barWidth, label = 'EfficienNet_Better')\n",
        "\n",
        "#max_tick = np.max(bars[0] + bars[1] + bars[2]) + 1\n",
        "\n",
        "plt.xticks(br2, ['x1', 'y1', 'x2', 'y2'])\n",
        "plt.legend(loc='lower right')\n",
        "plt.xlabel('Coordinates')\n",
        "plt.ylabel('Mean absolute error')\n",
        "plt.title('Model comparision in localization task')\n",
        "#plt.ylim(0,max_tick)\n",
        "plt.grid()\n",
        "plt.show()"
      ],
      "metadata": {
        "colab": {
          "base_uri": "https://localhost:8080/",
          "height": 472
        },
        "id": "1hn5GsYiIpzX",
        "outputId": "fb8f4a21-9405-49a0-e250-038ef51dad8a"
      },
      "execution_count": null,
      "outputs": [
        {
          "output_type": "display_data",
          "data": {
            "text/plain": [
              "<Figure size 640x480 with 1 Axes>"
            ],
            "image/png": "[encoded data removed]"
          },
          "metadata": {}
        }
      ]
    },
    {
      "cell_type": "markdown",
      "source": [
        "#Macro-lab\n",
        "\n",
        "Tratar de mejorar estos modelos:\n",
        "\n",
        "- Ampliar la BD con DA\n",
        "- Usar los pesos y mejorar el DA, regularización, hiperparámetros, optimizadores, etc.\n",
        "- Cambiar de arquitectura"
      ],
      "metadata": {
        "id": "HTgdGxNURVh_"
      }
    }
  ],
  "metadata": {
    "kernelspec": {
      "display_name": "Python 3",
      "name": "python3"
    },
    "language_info": {
      "codemirror_mode": {
        "name": "ipython",
        "version": 3
      },
      "file_extension": ".py",
      "mimetype": "text/x-python",
      "name": "python",
      "nbconvert_exporter": "python",
      "pygments_lexer": "ipython3",
      "version": "3.7.16"
    },
    "orig_nbformat": 4,
    "colab": {
      "provenance": [],
      "gpuType": "T4"
    },
    "accelerator": "GPU"
  },
  "nbformat": 4,
  "nbformat_minor": 0
}